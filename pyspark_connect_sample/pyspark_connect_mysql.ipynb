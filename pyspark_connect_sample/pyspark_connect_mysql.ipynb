{
 "cells": [
  {
   "cell_type": "code",
   "execution_count": 1,
   "id": "0b003d94",
   "metadata": {},
   "outputs": [
    {
     "name": "stderr",
     "output_type": "stream",
     "text": [
      "21/10/20 11:41:48 WARN Utils: Your hostname, james-MS-7A69 resolves to a loopback address: 127.0.1.1; using 10.100.0.179 instead (on interface enp0s31f6)\n",
      "21/10/20 11:41:48 WARN Utils: Set SPARK_LOCAL_IP if you need to bind to another address\n",
      "WARNING: An illegal reflective access operation has occurred\n",
      "WARNING: Illegal reflective access by org.apache.spark.unsafe.Platform (file:/home/james/anaconda3/envs/python_practice/lib/python3.9/site-packages/pyspark/jars/spark-unsafe_2.12-3.1.2.jar) to constructor java.nio.DirectByteBuffer(long,int)\n",
      "WARNING: Please consider reporting this to the maintainers of org.apache.spark.unsafe.Platform\n",
      "WARNING: Use --illegal-access=warn to enable warnings of further illegal reflective access operations\n",
      "WARNING: All illegal access operations will be denied in a future release\n",
      "21/10/20 11:41:49 WARN NativeCodeLoader: Unable to load native-hadoop library for your platform... using builtin-java classes where applicable\n",
      "Using Spark's default log4j profile: org/apache/spark/log4j-defaults.properties\n",
      "Setting default log level to \"WARN\".\n",
      "To adjust logging level use sc.setLogLevel(newLevel). For SparkR, use setLogLevel(newLevel).\n",
      "21/10/20 11:41:49 WARN Utils: Service 'SparkUI' could not bind on port 4040. Attempting port 4041.\n"
     ]
    },
    {
     "name": "stdout",
     "output_type": "stream",
     "text": [
      "<class 'pyspark.sql.dataframe.DataFrame'>\n",
      "+---+-----------+--------+\n",
      "| id|       info|    name|\n",
      "+---+-----------+--------+\n",
      "|  1|heal people|  doctor|\n",
      "|  4|    coding |engineer|\n",
      "|  5|      heal |  doctor|\n",
      "|  6|    coding |engineer|\n",
      "|  7|      heal |  doctor|\n",
      "+---+-----------+--------+\n",
      "\n"
     ]
    }
   ],
   "source": [
    "## python 3.9.7\n",
    "## spark 3.1.2\n",
    "\n",
    "\n",
    "from pyspark.sql import SQLContext, SparkSession\n",
    "\n",
    "## config 傳入 mysql jdbc connector 位置\n",
    "spark = SparkSession. \\\n",
    "        Builder(). \\\n",
    "        appName('sql'). \\\n",
    "        master('local'). \\\n",
    "        config(\"spark.driver.extraClassPath\", \"/home/james/下載/mysql-connector-java-8.0.27.jar\"). \\\n",
    "        getOrCreate()\n",
    "# mysql 配置(需要修改)\n",
    "prop = {'user': 'testadmin', \n",
    "        'password': 'testadmin'}\n",
    "\n",
    "url = 'jdbc:mysql://localhost:3306/test_db'\n",
    "\n",
    "\n",
    "#可傳入 query 或 table名稱\n",
    "# query = \"(select count(*),name from job group by name) t1_alias \"\n",
    "\n",
    "df = spark.read.jdbc(url=url, table='job', properties=prop)\n",
    "\n",
    "df.write.mode(\"append\").jdbc(url=url, table='job_spark', properties=prop)\n",
    "   \n",
    "spark.stop()"
   ]
  },
  {
   "cell_type": "code",
   "execution_count": null,
   "id": "64b9c3e8",
   "metadata": {},
   "outputs": [],
   "source": []
  }
 ],
 "metadata": {
  "kernelspec": {
   "display_name": "Python 3",
   "language": "python",
   "name": "python3"
  },
  "language_info": {
   "codemirror_mode": {
    "name": "ipython",
    "version": 3
   },
   "file_extension": ".py",
   "mimetype": "text/x-python",
   "name": "python",
   "nbconvert_exporter": "python",
   "pygments_lexer": "ipython3",
   "version": "3.9.7"
  }
 },
 "nbformat": 4,
 "nbformat_minor": 5
}
