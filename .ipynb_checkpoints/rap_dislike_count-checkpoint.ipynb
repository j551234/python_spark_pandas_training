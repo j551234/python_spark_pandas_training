{
 "cells": [
  {
   "cell_type": "code",
   "execution_count": 3,
   "id": "57512722",
   "metadata": {},
   "outputs": [],
   "source": [
    "import os\n",
    "import pandas as pd\n",
    "\n",
    "\n"
   ]
  },
  {
   "cell_type": "code",
   "execution_count": 4,
   "id": "03300278",
   "metadata": {},
   "outputs": [
    {
     "name": "stdout",
     "output_type": "stream",
     "text": [
      "/home/james/python_practice/archive資料夾內容：\n"
     ]
    }
   ],
   "source": [
    "## set default location for folder\n",
    "test_path = \"/home/james/python_practice/archive\"\n",
    "def get_video_list(folder_path):\n",
    "    video_file_list = []\n",
    "    folder_content = os.listdir(folder_path)\n",
    "\n",
    "    print(folder_path + '資料夾內容：')\n",
    "    for item in folder_content:\n",
    "        if(item.endswith(\"videos.csv\")):\n",
    "            video_file_list.append(item)\n",
    "    return video_file_list\n",
    "\n",
    "\n",
    "video_file_list = get_video_list(test_path)\n",
    "\n",
    "\n"
   ]
  },
  {
   "cell_type": "code",
   "execution_count": 9,
   "id": "365e5cdf",
   "metadata": {},
   "outputs": [],
   "source": [
    "## 找出 rap 的tags 的 標題跟 dislikes 數量\n",
    "def get_rap_info(file_name):\n",
    "    df = pd.read_csv(file_name)\n",
    "    df = df[df['tags'].notnull()]\n",
    "    rap_df = df[df.tags.str.contains(\"rap\")]\n",
    "    result = rap_df[['title', 'dislikes']]\n",
    "    return result"
   ]
  },
  {
   "cell_type": "code",
   "execution_count": 27,
   "id": "9ebf3f35",
   "metadata": {},
   "outputs": [
    {
     "data": {
      "text/html": [
       "<div>\n",
       "<style scoped>\n",
       "    .dataframe tbody tr th:only-of-type {\n",
       "        vertical-align: middle;\n",
       "    }\n",
       "\n",
       "    .dataframe tbody tr th {\n",
       "        vertical-align: top;\n",
       "    }\n",
       "\n",
       "    .dataframe thead th {\n",
       "        text-align: right;\n",
       "    }\n",
       "</style>\n",
       "<table border=\"1\" class=\"dataframe\">\n",
       "  <thead>\n",
       "    <tr style=\"text-align: right;\">\n",
       "      <th></th>\n",
       "      <th>title</th>\n",
       "      <th>dislikes</th>\n",
       "    </tr>\n",
       "  </thead>\n",
       "  <tbody>\n",
       "    <tr>\n",
       "      <th>10</th>\n",
       "      <td>21 Savage - Bank Account (Official Music Video)</td>\n",
       "      <td>8585</td>\n",
       "    </tr>\n",
       "    <tr>\n",
       "      <th>28</th>\n",
       "      <td>So We Started A Fire...</td>\n",
       "      <td>182</td>\n",
       "    </tr>\n",
       "    <tr>\n",
       "      <th>31</th>\n",
       "      <td>Mythical Dog Party</td>\n",
       "      <td>136</td>\n",
       "    </tr>\n",
       "    <tr>\n",
       "      <th>61</th>\n",
       "      <td>NAV - Wanted You feat. Lil Uzi Vert (Official ...</td>\n",
       "      <td>466</td>\n",
       "    </tr>\n",
       "    <tr>\n",
       "      <th>67</th>\n",
       "      <td>Drako - Watch Me Do It [Official Video]</td>\n",
       "      <td>0</td>\n",
       "    </tr>\n",
       "    <tr>\n",
       "      <th>...</th>\n",
       "      <td>...</td>\n",
       "      <td>...</td>\n",
       "    </tr>\n",
       "    <tr>\n",
       "      <th>40784</th>\n",
       "      <td>Multi-Board Game Battle!!</td>\n",
       "      <td>312</td>\n",
       "    </tr>\n",
       "    <tr>\n",
       "      <th>40798</th>\n",
       "      <td>The Big Bang Theory: What Went Wrong? – Wisecr...</td>\n",
       "      <td>1996</td>\n",
       "    </tr>\n",
       "    <tr>\n",
       "      <th>40825</th>\n",
       "      <td>Combat mon frere vs Ismael et Maga assassin  v...</td>\n",
       "      <td>2576</td>\n",
       "    </tr>\n",
       "    <tr>\n",
       "      <th>40845</th>\n",
       "      <td>Les Anges 10 (Replay entier) - Episode 65 : To...</td>\n",
       "      <td>59</td>\n",
       "    </tr>\n",
       "    <tr>\n",
       "      <th>40853</th>\n",
       "      <td>The Most Insane Laptop Ever Built...</td>\n",
       "      <td>926</td>\n",
       "    </tr>\n",
       "  </tbody>\n",
       "</table>\n",
       "<p>1975 rows × 2 columns</p>\n",
       "</div>"
      ],
      "text/plain": [
       "                                                   title  dislikes\n",
       "10       21 Savage - Bank Account (Official Music Video)      8585\n",
       "28                               So We Started A Fire...       182\n",
       "31                                    Mythical Dog Party       136\n",
       "61     NAV - Wanted You feat. Lil Uzi Vert (Official ...       466\n",
       "67               Drako - Watch Me Do It [Official Video]         0\n",
       "...                                                  ...       ...\n",
       "40784                          Multi-Board Game Battle!!       312\n",
       "40798  The Big Bang Theory: What Went Wrong? – Wisecr...      1996\n",
       "40825  Combat mon frere vs Ismael et Maga assassin  v...      2576\n",
       "40845  Les Anges 10 (Replay entier) - Episode 65 : To...        59\n",
       "40853               The Most Insane Laptop Ever Built...       926\n",
       "\n",
       "[1975 rows x 2 columns]"
      ]
     },
     "metadata": {},
     "output_type": "display_data"
    }
   ],
   "source": [
    "ans = get_rap_info(\"/home/james/python_practice/archive/CAvideos.csv\")\n",
    "display(ans)\n"
   ]
  },
  {
   "cell_type": "code",
   "execution_count": 29,
   "id": "7a0b0d71",
   "metadata": {},
   "outputs": [
    {
     "name": "stdout",
     "output_type": "stream",
     "text": [
      "['DEvideos.csv', 'USvideos.csv', 'FRvideos.csv', 'INvideos.csv', 'GBvideos.csv', 'CAvideos.csv']\n"
     ]
    }
   ],
   "source": [
    "## 編碼問題去除\n",
    "\n",
    "rap_list = []\n",
    "skip=set((\"JP\",\"KR\",\"MX\",\"RU\"))\n",
    "\n",
    "for item in video_file_list:\n",
    "    for i in skip:\n",
    "        if item.find(i)!= -1:\n",
    "            print(item)\n",
    "            video_file_list.remove(item)\n",
    "            continue\n",
    "            \n",
    "print (video_file_list)\n"
   ]
  },
  {
   "cell_type": "code",
   "execution_count": 32,
   "id": "b1ceccda",
   "metadata": {},
   "outputs": [
    {
     "name": "stdout",
     "output_type": "stream",
     "text": [
      "/home/james/python_practice/archive/DEvideos.csv\n",
      "/home/james/python_practice/archive/USvideos.csv\n",
      "/home/james/python_practice/archive/FRvideos.csv\n",
      "/home/james/python_practice/archive/INvideos.csv\n",
      "/home/james/python_practice/archive/GBvideos.csv\n",
      "/home/james/python_practice/archive/CAvideos.csv\n"
     ]
    }
   ],
   "source": [
    "for item in video_file_list:\n",
    "    file_name = test_path+\"/\"+item\n",
    "    print(file_name)\n",
    "    rap_list.append( get_rap_info(file_name))"
   ]
  },
  {
   "cell_type": "code",
   "execution_count": 34,
   "id": "8fb774c9",
   "metadata": {},
   "outputs": [
    {
     "data": {
      "text/html": [
       "<div>\n",
       "<style scoped>\n",
       "    .dataframe tbody tr th:only-of-type {\n",
       "        vertical-align: middle;\n",
       "    }\n",
       "\n",
       "    .dataframe tbody tr th {\n",
       "        vertical-align: top;\n",
       "    }\n",
       "\n",
       "    .dataframe thead th {\n",
       "        text-align: right;\n",
       "    }\n",
       "</style>\n",
       "<table border=\"1\" class=\"dataframe\">\n",
       "  <thead>\n",
       "    <tr style=\"text-align: right;\">\n",
       "      <th></th>\n",
       "      <th>title</th>\n",
       "      <th>dislikes</th>\n",
       "    </tr>\n",
       "  </thead>\n",
       "  <tbody>\n",
       "    <tr>\n",
       "      <th>0</th>\n",
       "      <td>Sing zu Ende! | Gesangseinlagen vom Feinsten |...</td>\n",
       "      <td>230</td>\n",
       "    </tr>\n",
       "    <tr>\n",
       "      <th>1</th>\n",
       "      <td>Kanaken auf der Klassenfahrt</td>\n",
       "      <td>578</td>\n",
       "    </tr>\n",
       "    <tr>\n",
       "      <th>2</th>\n",
       "      <td>Diese Schlafposition solltest Du unbedingt ver...</td>\n",
       "      <td>303</td>\n",
       "    </tr>\n",
       "    <tr>\n",
       "      <th>3</th>\n",
       "      <td>CAPO - ALLES AUF ROT - TOURBLOG #5</td>\n",
       "      <td>69</td>\n",
       "    </tr>\n",
       "    <tr>\n",
       "      <th>4</th>\n",
       "      <td>Eminem Performs 'Walk On Water' | MTV EMAs 201...</td>\n",
       "      <td>272</td>\n",
       "    </tr>\n",
       "    <tr>\n",
       "      <th>...</th>\n",
       "      <td>...</td>\n",
       "      <td>...</td>\n",
       "    </tr>\n",
       "    <tr>\n",
       "      <th>9101</th>\n",
       "      <td>I PAID A STRANGER TO MAKE ME THE NEXT BIG RAPPER</td>\n",
       "      <td>255</td>\n",
       "    </tr>\n",
       "    <tr>\n",
       "      <th>9102</th>\n",
       "      <td>Multi-Board Game Battle!!</td>\n",
       "      <td>312</td>\n",
       "    </tr>\n",
       "    <tr>\n",
       "      <th>9103</th>\n",
       "      <td>The Big Bang Theory: What Went Wrong? – Wisecr...</td>\n",
       "      <td>1996</td>\n",
       "    </tr>\n",
       "    <tr>\n",
       "      <th>9104</th>\n",
       "      <td>Les Anges 10 (Replay entier) - Episode 65 : To...</td>\n",
       "      <td>59</td>\n",
       "    </tr>\n",
       "    <tr>\n",
       "      <th>9105</th>\n",
       "      <td>The Most Insane Laptop Ever Built...</td>\n",
       "      <td>926</td>\n",
       "    </tr>\n",
       "  </tbody>\n",
       "</table>\n",
       "<p>9106 rows × 2 columns</p>\n",
       "</div>"
      ],
      "text/plain": [
       "                                                  title  dislikes\n",
       "0     Sing zu Ende! | Gesangseinlagen vom Feinsten |...       230\n",
       "1                          Kanaken auf der Klassenfahrt       578\n",
       "2     Diese Schlafposition solltest Du unbedingt ver...       303\n",
       "3                    CAPO - ALLES AUF ROT - TOURBLOG #5        69\n",
       "4     Eminem Performs 'Walk On Water' | MTV EMAs 201...       272\n",
       "...                                                 ...       ...\n",
       "9101   I PAID A STRANGER TO MAKE ME THE NEXT BIG RAPPER       255\n",
       "9102                          Multi-Board Game Battle!!       312\n",
       "9103  The Big Bang Theory: What Went Wrong? – Wisecr...      1996\n",
       "9104  Les Anges 10 (Replay entier) - Episode 65 : To...        59\n",
       "9105               The Most Insane Laptop Ever Built...       926\n",
       "\n",
       "[9106 rows x 2 columns]"
      ]
     },
     "metadata": {},
     "output_type": "display_data"
    }
   ],
   "source": [
    "df_list=pd.concat(rap_list).drop_duplicates().reset_index(drop=True)   \n",
    "\n",
    "display(df_list)"
   ]
  },
  {
   "cell_type": "code",
   "execution_count": null,
   "id": "542c6c39",
   "metadata": {},
   "outputs": [],
   "source": []
  }
 ],
 "metadata": {
  "kernelspec": {
   "display_name": "Python 3",
   "language": "python",
   "name": "python3"
  },
  "language_info": {
   "codemirror_mode": {
    "name": "ipython",
    "version": 3
   },
   "file_extension": ".py",
   "mimetype": "text/x-python",
   "name": "python",
   "nbconvert_exporter": "python",
   "pygments_lexer": "ipython3",
   "version": "3.9.7"
  }
 },
 "nbformat": 4,
 "nbformat_minor": 5
}
