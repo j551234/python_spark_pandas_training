{
 "cells": [
  {
   "cell_type": "code",
   "execution_count": 12,
   "id": "8f2ba478",
   "metadata": {},
   "outputs": [
    {
     "name": "stdout",
     "output_type": "stream",
     "text": [
      "<class 'pyspark.sql.dataframe.DataFrame'>\n",
      "+---+-----------+--------+\n",
      "| id|       info|    name|\n",
      "+---+-----------+--------+\n",
      "|  1|heal people|  doctor|\n",
      "|  4|    coding |engineer|\n",
      "|  5|      heal |  doctor|\n",
      "|  6|    coding |engineer|\n",
      "|  7|      heal |  doctor|\n",
      "+---+-----------+--------+\n",
      "\n"
     ]
    }
   ],
   "source": [
    "## python 3.9.7\n",
    "## spark 3.1.2\n",
    "\n",
    "\n",
    "from pyspark.sql import SQLContext, SparkSession\n",
    "\n",
    "spark = SparkSession. \\\n",
    "        Builder(). \\\n",
    "        appName('sql'). \\\n",
    "        master('local'). \\\n",
    "        config(\"spark.driver.extraClassPath\", \"/home/james/下載/mysql-connector-java-8.0.27.jar\"). \\\n",
    "        getOrCreate()\n",
    "# mysql 配置(需要修改)\n",
    "prop = {'user': 'testadmin', \n",
    "        'password': 'testadmin'}\n",
    "\n",
    "url = 'jdbc:mysql://localhost:3306/test_db'\n",
    "\n",
    "\n",
    "# query = \"(select count(*),name from job group by name) t1_alias \"\n",
    "\n",
    "#可傳入 query 或 table名稱\n",
    "df = spark.read.jdbc(url=url, table='job', properties=prop)\n",
    "\n",
    "print(type(df))\n",
    "\n",
    "df.show()\n",
    "# df[df['count(*)']>2].show()\n",
    "df.write.mode(\"append\").jdbc(url=url, table='job_spark', properties=prop)\n",
    "   \n",
    "spark.stop()"
   ]
  },
  {
   "cell_type": "code",
   "execution_count": null,
   "id": "aafafb06",
   "metadata": {},
   "outputs": [],
   "source": []
  }
 ],
 "metadata": {
  "kernelspec": {
   "display_name": "Python 3",
   "language": "python",
   "name": "python3"
  },
  "language_info": {
   "codemirror_mode": {
    "name": "ipython",
    "version": 3
   },
   "file_extension": ".py",
   "mimetype": "text/x-python",
   "name": "python",
   "nbconvert_exporter": "python",
   "pygments_lexer": "ipython3",
   "version": "3.9.7"
  }
 },
 "nbformat": 4,
 "nbformat_minor": 5
}
