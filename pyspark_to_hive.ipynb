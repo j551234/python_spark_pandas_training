{
 "cells": [
  {
   "cell_type": "code",
   "execution_count": 1,
   "id": "a49b42b8",
   "metadata": {},
   "outputs": [],
   "source": [
    "import os\n",
    "from pyspark import SparkContext,SparkConf\n",
    "from pyspark.sql import SparkSession\n",
    "from pyspark.sql import HiveContext\n",
    "\n",
    "from pyspark.context import SparkContext\n",
    "\n",
    "\n",
    "# conf = SparkConf().setAppName('spark_test').set(\"spark.sql.uris\", \"thrift://10.4.2.77:9083\").setMaster(\"spark://10.4.2.77:7077\")\n",
    "# sc = SparkContext(conf=conf)\n",
    "# sqlCtx = HiveContext(sc)\n",
    "# sqlContext = HiveContext(sc)\n",
    "\n",
    "\n",
    "# sqlContext.sql(\"show databases\").show()\n",
    "\n",
    "\n",
    "\n"
   ]
  },
  {
   "cell_type": "code",
   "execution_count": 2,
   "id": "0f6264b9",
   "metadata": {},
   "outputs": [
    {
     "name": "stderr",
     "output_type": "stream",
     "text": [
      "2021-10-29 15:23:44,725 WARN util.Utils: Your hostname, james-MS-7A69 resolves to a loopback address: 127.0.1.1; using 10.100.0.179 instead (on interface enp0s31f6)\n",
      "2021-10-29 15:23:44,726 WARN util.Utils: Set SPARK_LOCAL_IP if you need to bind to another address\n",
      "WARNING: An illegal reflective access operation has occurred\n",
      "WARNING: Illegal reflective access by org.apache.spark.unsafe.Platform (file:/home/james/anaconda3/envs/py_spark/lib/python3.9/site-packages/pyspark/jars/spark-unsafe_2.12-3.1.2.jar) to constructor java.nio.DirectByteBuffer(long,int)\n",
      "WARNING: Please consider reporting this to the maintainers of org.apache.spark.unsafe.Platform\n",
      "WARNING: Use --illegal-access=warn to enable warnings of further illegal reflective access operations\n",
      "WARNING: All illegal access operations will be denied in a future release\n",
      "2021-10-29 15:23:45,062 WARN util.NativeCodeLoader: Unable to load native-hadoop library for your platform... using builtin-java classes where applicable\n",
      "Setting default log level to \"WARN\".\n",
      "To adjust logging level use sc.setLogLevel(newLevel). For SparkR, use setLogLevel(newLevel).\n",
      "2021-10-29 15:23:49,261 WARN conf.HiveConf: HiveConf of name hive.stats.jdbc.timeout does not exist\n",
      "2021-10-29 15:23:49,261 WARN conf.HiveConf: HiveConf of name hive.stats.retries.wait does not exist\n"
     ]
    },
    {
     "name": "stdout",
     "output_type": "stream",
     "text": [
      "+---------+\n",
      "|namespace|\n",
      "+---------+\n",
      "|  default|\n",
      "|   userdb|\n",
      "+---------+\n",
      "\n"
     ]
    }
   ],
   "source": [
    "os.environ[\"HADOOP_CONF_DIR\"] = \"/opt/hadoop/etc/hadoop\"\n",
    "from pyspark.sql import SparkSession\n",
    "\n",
    "warehouse_location = '/user/hive/warehouse\"'\n",
    "spark = SparkSession \\\n",
    "    .builder \\\n",
    "    .appName(\"Python Spark SQL Hive integration example\") \\\n",
    "    .config(\"spark.sql.uris\", \"thrift://10.4.2.77:9083\") \\\n",
    "    .config(\"spark.driver.extraClassPath\", \"/home/james/下載/mysql-connector-java-8.0.27.jar\") \\\n",
    "    .enableHiveSupport() \\\n",
    "    .getOrCreate()\n",
    "\n",
    "\n",
    "df = spark.sql(\"show databases;\")\n",
    "df.show()\n",
    "\n"
   ]
  },
  {
   "cell_type": "code",
   "execution_count": 3,
   "id": "78abc2f7",
   "metadata": {},
   "outputs": [
    {
     "name": "stderr",
     "output_type": "stream",
     "text": [
      "2021-10-29 15:23:50,954 WARN metastore.ObjectStore: Failed to get database global_temp, returning NoSuchObjectException\n",
      "2021-10-29 15:23:51,385 WARN session.SessionState: METASTORE_FILTER_HOOK will be ignored, since hive.security.authorization.manager is set to instance of HiveAuthorizerFactory.\n"
     ]
    },
    {
     "name": "stdout",
     "output_type": "stream",
     "text": [
      "+---+\n",
      "| id|\n",
      "+---+\n",
      "|100|\n",
      "+---+\n",
      "\n"
     ]
    }
   ],
   "source": [
    "id_df = spark.sql(\"SELECT * FROM userdb.table_a;\")\n",
    "id_df.show()\n",
    "\n",
    "\n",
    "\n",
    "\n",
    "\n"
   ]
  },
  {
   "cell_type": "code",
   "execution_count": 7,
   "id": "9bd2fa7d",
   "metadata": {},
   "outputs": [
    {
     "name": "stdout",
     "output_type": "stream",
     "text": [
      "+---+\n",
      "| id|\n",
      "+---+\n",
      "|100|\n",
      "| 10|\n",
      "| 11|\n",
      "| 13|\n",
      "+---+\n",
      "\n"
     ]
    },
    {
     "name": "stderr",
     "output_type": "stream",
     "text": [
      "\r",
      "[Stage 8:===================================>                       (3 + 2) / 5]\r",
      "\r",
      "                                                                                \r"
     ]
    }
   ],
   "source": [
    "df = spark.createDataFrame([\"10\",\"11\",\"13\"], \"string\").toDF(\"id\")\n",
    "\n",
    "\n",
    "\n",
    "\n",
    "appended = id_df.union(df)\n",
    "\n",
    "\n",
    "appended.show()\n",
    "\n",
    "appended.write.format(\"Hive\").mode(\"append\").saveAsTable(\"userdb.table_a\");"
   ]
  },
  {
   "cell_type": "code",
   "execution_count": 9,
   "id": "d230c4f9",
   "metadata": {},
   "outputs": [
    {
     "name": "stdout",
     "output_type": "stream",
     "text": [
      "+---+\n",
      "| id|\n",
      "+---+\n",
      "|100|\n",
      "|100|\n",
      "| 10|\n",
      "| 11|\n",
      "| 13|\n",
      "+---+\n",
      "\n"
     ]
    }
   ],
   "source": [
    "result = spark.sql(\"SELECT * FROM userdb.table_a;\")\n",
    "result.show()\n"
   ]
  },
  {
   "cell_type": "code",
   "execution_count": null,
   "id": "75765c83",
   "metadata": {},
   "outputs": [],
   "source": [
    "spark.stop()"
   ]
  },
  {
   "cell_type": "code",
   "execution_count": null,
   "id": "8f37e5dc",
   "metadata": {},
   "outputs": [],
   "source": []
  }
 ],
 "metadata": {
  "kernelspec": {
   "display_name": "Python 3",
   "language": "python",
   "name": "python3"
  },
  "language_info": {
   "codemirror_mode": {
    "name": "ipython",
    "version": 3
   },
   "file_extension": ".py",
   "mimetype": "text/x-python",
   "name": "python",
   "nbconvert_exporter": "python",
   "pygments_lexer": "ipython3",
   "version": "3.9.7"
  }
 },
 "nbformat": 4,
 "nbformat_minor": 5
}
