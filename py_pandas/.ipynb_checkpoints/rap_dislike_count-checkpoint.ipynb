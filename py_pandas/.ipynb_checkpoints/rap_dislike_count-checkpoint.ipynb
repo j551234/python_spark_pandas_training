{
 "cells": [
  {
   "cell_type": "code",
   "execution_count": 1,
   "id": "57512722",
   "metadata": {},
   "outputs": [],
   "source": [
    "import os\n",
    "import pandas as pd\n",
    "\n",
    "\n"
   ]
  },
  {
   "cell_type": "code",
   "execution_count": 2,
   "id": "03300278",
   "metadata": {},
   "outputs": [
    {
     "name": "stdout",
     "output_type": "stream",
     "text": [
      "/home/james/python_practice/archive資料夾內容：\n"
     ]
    }
   ],
   "source": [
    "## set default location for folder\n",
    "test_path = \"/home/james/python_practice/archive\"\n",
    "def get_video_list(folder_path):\n",
    "    video_file_list = []\n",
    "    folder_content = os.listdir(folder_path)\n",
    "\n",
    "    print(folder_path + '資料夾內容：')\n",
    "    for item in folder_content:\n",
    "        if(item.endswith(\"videos.csv\")):\n",
    "            video_file_list.append(item)\n",
    "    return video_file_list\n",
    "\n",
    "\n",
    "video_file_list = get_video_list(test_path)\n",
    "\n",
    "\n"
   ]
  },
  {
   "cell_type": "code",
   "execution_count": 3,
   "id": "365e5cdf",
   "metadata": {},
   "outputs": [],
   "source": [
    "## 找出 rap 的tags 的 標題跟 dislikes 數量\n",
    "def get_rap_info(file_name):\n",
    "    df = pd.read_csv(file_name)\n",
    "    df = df[df['tags'].notnull()]\n",
    "    rap_df = df[df.tags.str.contains(\"rap\")]\n",
    "    result = rap_df[['title', 'dislikes']]\n",
    "    return result"
   ]
  },
  {
   "cell_type": "code",
   "execution_count": null,
   "id": "9ebf3f35",
   "metadata": {},
   "outputs": [],
   "source": [
    "ans = get_rap_info(\"/home/james/python_practice/archive/CAvideos.csv\")\n",
    "display(ans)\n"
   ]
  },
  {
   "cell_type": "code",
   "execution_count": null,
   "id": "7a0b0d71",
   "metadata": {},
   "outputs": [],
   "source": [
    "## 編碼問題去除\n",
    "\n",
    "rap_list = []\n",
    "skip=set((\"JP\",\"KR\",\"MX\",\"RU\"))\n",
    "\n",
    "for item in video_file_list:\n",
    "    for i in skip:\n",
    "        if item.find(i)!= -1:\n",
    "            print(item)\n",
    "            video_file_list.remove(item)\n",
    "            continue\n",
    "            \n",
    "print (video_file_list)\n"
   ]
  },
  {
   "cell_type": "code",
   "execution_count": null,
   "id": "b1ceccda",
   "metadata": {},
   "outputs": [],
   "source": [
    "for item in video_file_list:\n",
    "    file_name = test_path+\"/\"+item\n",
    "    print(file_name)\n",
    "    rap_list.append( get_rap_info(file_name))"
   ]
  },
  {
   "cell_type": "code",
   "execution_count": null,
   "id": "8fb774c9",
   "metadata": {},
   "outputs": [],
   "source": [
    "df_list=pd.concat(rap_list).drop_duplicates()\n",
    "\n",
    "display(df_list)"
   ]
  },
  {
   "cell_type": "code",
   "execution_count": null,
   "id": "542c6c39",
   "metadata": {},
   "outputs": [],
   "source": []
  }
 ],
 "metadata": {
  "kernelspec": {
   "display_name": "Python 3",
   "language": "python",
   "name": "python3"
  },
  "language_info": {
   "codemirror_mode": {
    "name": "ipython",
    "version": 3
   },
   "file_extension": ".py",
   "mimetype": "text/x-python",
   "name": "python",
   "nbconvert_exporter": "python",
   "pygments_lexer": "ipython3",
   "version": "3.9.7"
  }
 },
 "nbformat": 4,
 "nbformat_minor": 5
}
