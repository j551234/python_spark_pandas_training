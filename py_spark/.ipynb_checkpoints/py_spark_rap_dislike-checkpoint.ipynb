{
 "cells": [
  {
   "cell_type": "code",
   "execution_count": 8,
   "id": "9fa653ed",
   "metadata": {},
   "outputs": [
    {
     "name": "stdout",
     "output_type": "stream",
     "text": [
      "/home/james/python_practice/archive資料夾內容：\n"
     ]
    }
   ],
   "source": [
    "from pyspark import SparkContext\n",
    "from pyspark.sql import SparkSession\n",
    "from pyspark.sql import Row\n",
    "\n",
    "import os\n",
    "\n",
    "test_path = \"/home/james/python_practice/archive\"\n",
    "def get_video_list(folder_path):\n",
    "    video_file_list = []\n",
    "    folder_content = os.listdir(folder_path)\n",
    "\n",
    "    print(folder_path + '資料夾內容：')\n",
    "    for item in folder_content:\n",
    "        if(item.endswith(\"videos.csv\")):\n",
    "            video_file_list.append(item)\n",
    "    return video_file_list\n",
    "\n",
    "\n",
    "video_file_list = get_video_list(test_path)"
   ]
  },
  {
   "cell_type": "code",
   "execution_count": 15,
   "id": "dbea0ad8",
   "metadata": {},
   "outputs": [
    {
     "name": "stderr",
     "output_type": "stream",
     "text": [
      "[Stage 18:======================================>                   (4 + 1) / 6]\r"
     ]
    },
    {
     "name": "stdout",
     "output_type": "stream",
     "text": [
      "+-----------+-------------+--------------------+--------------------+-----------+--------------------+--------------------+-------+-----+--------+-------------+--------------------+-----------------+----------------+----------------------+--------------------+\n",
      "|   video_id|trending_date|               title|       channel_title|category_id|        publish_time|                tags|  views|likes|dislikes|comment_count|      thumbnail_link|comments_disabled|ratings_disabled|video_error_or_removed|         description|\n",
      "+-----------+-------------+--------------------+--------------------+-----------+--------------------+--------------------+-------+-----+--------+-------------+--------------------+-----------------+----------------+----------------------+--------------------+\n",
      "|VoUEz9yQJ8w|     18.18.01|RAPID EYE MOVEMEN...|  Tentmaker Pictures|          1|2018-01-16T14:12:...|\"Francois Arnaud\"...|   2511|    0|       0|            3|https://i.ytimg.c...|            False|            True|                 False|From Director Pet...|\n",
      "|amEZKmJQ4Io|     17.14.11|Drako - Watch Me ...|   babygranderecords|         10|2017-10-23T19:38:...|\"Drako\"|\"Watch Me...|  25887|    0|       0|            6|https://i.ytimg.c...|            False|            True|                 False|PURCHASE / STREAM...|\n",
      "|zKtBpSS5g0A|     17.02.12|रोहित सरदाना पर न...|        Pal Pal News|         25|2017-11-30T18:15:...|\"new|\"\"breaking\"\"...| 160753|    0|       0|           79|https://i.ytimg.c...|            FALSE|            TRUE|                 FALSE|Story by- palpaln...|\n",
      "|nkjL1NuNWrY|     18.04.02|        Enima - Time|      Enima Officiel|         10|2018-02-02T01:00:...|\"Rap\"|\"montréal\"|...|  82206|    0|       0|          425|https://i.ytimg.c...|            False|            True|                 False|Album « OPN » bie...|\n",
      "|T_mWpPSrVK4|     18.19.03|Drake - Gods Plan...|     KsFreakWhatElse|         10|2018-03-16T23:00:...|\"drake\"|\"drake - ...| 363298|    0|       0|            0|https://i.ytimg.c...|             True|            True|                 False|Hey Leute es ist ...|\n",
      "|IwINjHIE8wM|     18.01.03|New BEST Lineup? ...|      Raptors Digest|         17|2018-03-01T04:08:...|\"raptors\"|\"toront...|   1508|   63|       0|           14|https://i.ytimg.c...|            False|           False|                 False|Ben Rogers and Ry...|\n",
      "|3KdPBWXHA58|     18.17.02|అసలు ఈ అమ్మాయి ఎవ...|      We support you|         22|2018-02-13T14:23:...|\"priya prakash va...|1420986|    0|       0|            0|https://i.ytimg.c...|             TRUE|            TRUE|                 FALSE|Topic: అసలు ఈ అమ్...|\n",
      "|YAjjaAN-iAA|     17.28.12|The Pen (prod. La...|       KnowThatVoice|         22|2017-12-04T19:06:...|#knowthatvoice #h...|  12496|   19|       0|            0|https://i.ytimg.c...|            FALSE|           FALSE|                 FALSE|The pen is always...|\n",
      "|nkjL1NuNWrY|     18.03.02|        Enima - Time|      Enima Officiel|         10|2018-02-02T01:00:...|\"Rap\"|\"montréal\"|...|  57003|    0|       0|          373|https://i.ytimg.c...|            False|            True|                 False|Album « OPN » bie...|\n",
      "|XDj9T3JKKnM|     18.18.02|Blitz Mini Album ...|         LiebesFuchs|          1|2018-02-17T19:00:...|\"mini album\"|\"diy...|   1819|  262|       0|           26|https://i.ytimg.c...|            False|           False|                 False|Hallo Ihr Lieben,...|\n",
      "|1v_SX8Gpt_E|     17.15.11|TRAP & NIGHTCORE ...|MusicBeatsKennedy...|         10|2017-11-14T18:41:...|\"remix|\"\"mix\"\"|\"\"...|   5559|  508|       0|           11|https://i.ytimg.c...|            FALSE|           FALSE|                 FALSE|🎵TRAP & NIGHTCOR...|\n",
      "|ohzw64i1NfY|     18.02.01|STUDIO SESSION (Z...|         YULIANO A.B|         10|2018-01-02T01:15:...|\"recording studio...|   6935|    1|       0|            0|https://i.ytimg.c...|            FALSE|           FALSE|                 FALSE|YULIANO  X  LCK B...|\n",
      "|     #NAME?|     17.25.12|Sorteo de Navidad...|FilmExin - Tráile...|          1|2017-12-22T15:48:...|\"navidad|\"\"2017\"\"...|  14851|    0|       0|            1|https://i.ytimg.c...|            FALSE|           FALSE|                 FALSE|Para celebrar la ...|\n",
      "|h_zIi5OoP3E|     18.05.01|RJSP no estúdio F...|   Fabrica de Pedras|         10|2017-11-20T11:49:...|\"Rock|\"\"Tag:\"\"|\"\"...|   6597|  314|       0|            2|https://i.ytimg.c...|            FALSE|           FALSE|                 FALSE|Os manos da RJSP ...|\n",
      "|s0LXmrJzGOw|     18.05.03|4Yall on working ...|           Just2Boyz|         22|2018-03-04T22:48:...|\"just 2 boyz\"|\"ju...|   5920|  514|       0|           75|https://i.ytimg.c...|            False|           False|                 False|After a long time...|\n",
      "|2Gr_-_hRvR4|     18.07.01|Convert Photo’s f...|         Josh Zaring|         26|2017-05-11T17:17:...|\"#jzaring|\"\"J. Za...|   5086|    5|       0|            0|https://i.ytimg.c...|            FALSE|           FALSE|                 FALSE|In this tutorial,...|\n",
      "|Y7b-OAjLduM|     17.26.12|          PhysioFeel|          PhysioFeel|         27|2017-12-15T04:49:...|\"Physiotherapy|\"\"...|  12457|   11|       0|            2|https://i.ytimg.c...|            FALSE|           FALSE|                 FALSE|Know more about P...|\n",
      "|37_4M1pV_zQ|     18.07.01|[FREE] DRAKE x FU...|Beats4U - TYPE BE...|         10|2018-01-06T22:11:...|\"future type beat...|   6364|  148|       0|            4|https://i.ytimg.c...|            FALSE|           FALSE|                 FALSE|[FREE] DRAKE x FU...|\n",
      "|1v_SX8Gpt_E|     17.15.11|TRAP & NIGHTCORE ...|MusicBeatsKennedy...|         10|2017-11-14T18:41:...|\"remix\"|\"mix\"|\"el...|   5559|  508|       0|           11|https://i.ytimg.c...|            False|           False|                 False|🎵TRAP & NIGHTCOR...|\n",
      "|6xxQxAs9q9c|     17.27.12| david bates jr REEL|         davidjr.com|         10|2017-12-14T17:00:...|\"reel|\"\"director\"...|  39197|    4|       0|            1|https://i.ytimg.c...|            FALSE|           FALSE|                 FALSE|Experimental Film...|\n",
      "+-----------+-------------+--------------------+--------------------+-----------+--------------------+--------------------+-------+-----+--------+-------------+--------------------+-----------------+----------------+----------------------+--------------------+\n",
      "only showing top 20 rows\n",
      "\n"
     ]
    },
    {
     "name": "stderr",
     "output_type": "stream",
     "text": [
      "21/10/15 11:08:55 WARN CSVHeaderChecker: Number of column in CSV header is not equal to number of fields in the schema:\n",
      " Header length: 1, schema size: 16\n",
      "CSV file: file:///home/james/python_practice/archive/US_category_id.json\n",
      "21/10/15 11:08:55 WARN CSVHeaderChecker: Number of column in CSV header is not equal to number of fields in the schema:\n",
      " Header length: 1, schema size: 16\n",
      "CSV file: file:///home/james/python_practice/archive/JP_category_id.json\n",
      "21/10/15 11:08:55 WARN CSVHeaderChecker: Number of column in CSV header is not equal to number of fields in the schema:\n",
      " Header length: 1, schema size: 16\n",
      "CSV file: file:///home/james/python_practice/archive/RU_category_id.json\n",
      "21/10/15 11:08:55 WARN CSVHeaderChecker: Number of column in CSV header is not equal to number of fields in the schema:\n",
      " Header length: 1, schema size: 16\n",
      "CSV file: file:///home/james/python_practice/archive/MX_category_id.json\n",
      "21/10/15 11:08:55 WARN CSVHeaderChecker: Number of column in CSV header is not equal to number of fields in the schema:\n",
      " Header length: 1, schema size: 16\n",
      "CSV file: file:///home/james/python_practice/archive/GB_category_id.json\n",
      "21/10/15 11:08:55 WARN CSVHeaderChecker: Number of column in CSV header is not equal to number of fields in the schema:\n",
      " Header length: 1, schema size: 16\n",
      "CSV file: file:///home/james/python_practice/archive/KR_category_id.json\n",
      "21/10/15 11:08:55 WARN CSVHeaderChecker: Number of column in CSV header is not equal to number of fields in the schema:\n",
      " Header length: 1, schema size: 16\n",
      "CSV file: file:///home/james/python_practice/archive/IN_category_id.json\n",
      "21/10/15 11:08:55 WARN CSVHeaderChecker: Number of column in CSV header is not equal to number of fields in the schema:\n",
      " Header length: 1, schema size: 16\n",
      "CSV file: file:///home/james/python_practice/archive/DE_category_id.json\n",
      "21/10/15 11:08:55 WARN CSVHeaderChecker: Number of column in CSV header is not equal to number of fields in the schema:\n",
      " Header length: 1, schema size: 16\n",
      "CSV file: file:///home/james/python_practice/archive/FR_category_id.json\n",
      "21/10/15 11:08:55 WARN CSVHeaderChecker: Number of column in CSV header is not equal to number of fields in the schema:\n",
      " Header length: 1, schema size: 16\n",
      "CSV file: file:///home/james/python_practice/archive/CA_category_id.json\n",
      "\r",
      "                                                                                \r"
     ]
    }
   ],
   "source": [
    "## 找出 rap 的tags 的 標題跟 dislikes 數量\n",
    "spark = SparkSession.builder.master(\"local[1]\") \\\n",
    "                    .appName('py_spark') \\\n",
    "                    .getOrCreate()\n",
    "\n",
    "\n",
    "data_df =spark.read.option(\"header\",True).csv(\"/home/james/python_practice/archive\")\n",
    "data_df.filter(data_df.tags.like(\"%rap%\")).sort(\"dislikes\").show()\n",
    "# data_df.show()\n"
   ]
  },
  {
   "cell_type": "code",
   "execution_count": null,
   "id": "10fd8b50",
   "metadata": {},
   "outputs": [],
   "source": []
  }
 ],
 "metadata": {
  "kernelspec": {
   "display_name": "Python 3",
   "language": "python",
   "name": "python3"
  },
  "language_info": {
   "codemirror_mode": {
    "name": "ipython",
    "version": 3
   },
   "file_extension": ".py",
   "mimetype": "text/x-python",
   "name": "python",
   "nbconvert_exporter": "python",
   "pygments_lexer": "ipython3",
   "version": "3.9.7"
  }
 },
 "nbformat": 4,
 "nbformat_minor": 5
}
