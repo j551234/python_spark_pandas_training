{
 "cells": [
  {
   "cell_type": "code",
   "execution_count": 4,
   "id": "2c365393",
   "metadata": {},
   "outputs": [
    {
     "name": "stdout",
     "output_type": "stream",
     "text": [
      "+--------------------+--------------------+--------------------+\n",
      "|                etag|               items|                kind|\n",
      "+--------------------+--------------------+--------------------+\n",
      "|\"ld9biNPKjAjgjV7E...|[{\"ld9biNPKjAjgjV...|youtube#videoCate...|\n",
      "+--------------------+--------------------+--------------------+\n",
      "\n",
      "+--------------------+---+--------------------+--------------------+\n",
      "|                etag| id|                kind|             snippet|\n",
      "+--------------------+---+--------------------+--------------------+\n",
      "|\"ld9biNPKjAjgjV7E...|  1|youtube#videoCate...|{true, UCBR8-60-B...|\n",
      "|\"ld9biNPKjAjgjV7E...|  2|youtube#videoCate...|{true, UCBR8-60-B...|\n",
      "|\"ld9biNPKjAjgjV7E...| 10|youtube#videoCate...|{true, UCBR8-60-B...|\n",
      "|\"ld9biNPKjAjgjV7E...| 15|youtube#videoCate...|{true, UCBR8-60-B...|\n",
      "|\"ld9biNPKjAjgjV7E...| 17|youtube#videoCate...|{true, UCBR8-60-B...|\n",
      "|\"ld9biNPKjAjgjV7E...| 18|youtube#videoCate...|{false, UCBR8-60-...|\n",
      "|\"ld9biNPKjAjgjV7E...| 19|youtube#videoCate...|{true, UCBR8-60-B...|\n",
      "|\"ld9biNPKjAjgjV7E...| 20|youtube#videoCate...|{true, UCBR8-60-B...|\n",
      "|\"ld9biNPKjAjgjV7E...| 21|youtube#videoCate...|{false, UCBR8-60-...|\n",
      "|\"ld9biNPKjAjgjV7E...| 22|youtube#videoCate...|{true, UCBR8-60-B...|\n",
      "|\"ld9biNPKjAjgjV7E...| 23|youtube#videoCate...|{true, UCBR8-60-B...|\n",
      "|\"ld9biNPKjAjgjV7E...| 24|youtube#videoCate...|{true, UCBR8-60-B...|\n",
      "|\"ld9biNPKjAjgjV7E...| 25|youtube#videoCate...|{true, UCBR8-60-B...|\n",
      "|\"ld9biNPKjAjgjV7E...| 26|youtube#videoCate...|{true, UCBR8-60-B...|\n",
      "|\"ld9biNPKjAjgjV7E...| 27|youtube#videoCate...|{true, UCBR8-60-B...|\n",
      "|\"ld9biNPKjAjgjV7E...| 28|youtube#videoCate...|{true, UCBR8-60-B...|\n",
      "|\"ld9biNPKjAjgjV7E...| 30|youtube#videoCate...|{false, UCBR8-60-...|\n",
      "|\"ld9biNPKjAjgjV7E...| 31|youtube#videoCate...|{false, UCBR8-60-...|\n",
      "|\"ld9biNPKjAjgjV7E...| 32|youtube#videoCate...|{false, UCBR8-60-...|\n",
      "|\"ld9biNPKjAjgjV7E...| 33|youtube#videoCate...|{false, UCBR8-60-...|\n",
      "+--------------------+---+--------------------+--------------------+\n",
      "only showing top 20 rows\n",
      "\n"
     ]
    }
   ],
   "source": [
    "from pyspark import SparkContext\n",
    "from pyspark.sql import SparkSession\n",
    "from pyspark.sql import Row\n",
    "\n",
    "## 找出所有title\n",
    "spark = SparkSession.builder.master(\"local[1]\") \\\n",
    "                    .appName('py_spark') \\\n",
    "                    .getOrCreate()\n",
    "\n",
    "local_path ='/home/james/python_practice/archive'\n",
    "\n",
    "\n",
    "# 載入檔案\n",
    "df = spark.read.option(\"multiline\",\"true\").json(local_path + \"/\" + \"CA_category_id.json\")\n",
    "df.show()\n",
    "items_df =df.rdd.flatMap(lambda x:x[\"items\"]).toDF()\n",
    "items_df.show()\n",
    "\n"
   ]
  },
  {
   "cell_type": "code",
   "execution_count": 11,
   "id": "7ad9a20f",
   "metadata": {},
   "outputs": [
    {
     "ename": "AttributeError",
     "evalue": "'DataFrame' object has no attribute 'title'",
     "output_type": "error",
     "traceback": [
      "\u001b[0;31m---------------------------------------------------------------------------\u001b[0m",
      "\u001b[0;31mAttributeError\u001b[0m                            Traceback (most recent call last)",
      "\u001b[0;32m/tmp/ipykernel_20815/3299220550.py\u001b[0m in \u001b[0;36m<module>\u001b[0;34m\u001b[0m\n\u001b[0;32m----> 1\u001b[0;31m \u001b[0mtitle_df\u001b[0m \u001b[0;34m=\u001b[0m \u001b[0mitems_df\u001b[0m\u001b[0;34m.\u001b[0m\u001b[0mselect\u001b[0m\u001b[0;34m(\u001b[0m\u001b[0;34m'id'\u001b[0m\u001b[0;34m,\u001b[0m\u001b[0mitems_df\u001b[0m\u001b[0;34m.\u001b[0m\u001b[0mtitle\u001b[0m\u001b[0;34m.\u001b[0m\u001b[0malias\u001b[0m\u001b[0;34m(\u001b[0m\u001b[0;34m\"category_name\"\u001b[0m\u001b[0;34m)\u001b[0m\u001b[0;34m)\u001b[0m\u001b[0;34m\u001b[0m\u001b[0;34m\u001b[0m\u001b[0m\n\u001b[0m\u001b[1;32m      2\u001b[0m \u001b[0;34m\u001b[0m\u001b[0m\n\u001b[1;32m      3\u001b[0m \u001b[0mtitle_df\u001b[0m\u001b[0;34m.\u001b[0m\u001b[0mshow\u001b[0m\u001b[0;34m(\u001b[0m\u001b[0;34m)\u001b[0m\u001b[0;34m\u001b[0m\u001b[0;34m\u001b[0m\u001b[0m\n",
      "\u001b[0;32m~/anaconda3/envs/python_practice/lib/python3.9/site-packages/pyspark/sql/dataframe.py\u001b[0m in \u001b[0;36m__getattr__\u001b[0;34m(self, name)\u001b[0m\n\u001b[1;32m   1641\u001b[0m         \"\"\"\n\u001b[1;32m   1642\u001b[0m         \u001b[0;32mif\u001b[0m \u001b[0mname\u001b[0m \u001b[0;32mnot\u001b[0m \u001b[0;32min\u001b[0m \u001b[0mself\u001b[0m\u001b[0;34m.\u001b[0m\u001b[0mcolumns\u001b[0m\u001b[0;34m:\u001b[0m\u001b[0;34m\u001b[0m\u001b[0;34m\u001b[0m\u001b[0m\n\u001b[0;32m-> 1643\u001b[0;31m             raise AttributeError(\n\u001b[0m\u001b[1;32m   1644\u001b[0m                 \"'%s' object has no attribute '%s'\" % (self.__class__.__name__, name))\n\u001b[1;32m   1645\u001b[0m         \u001b[0mjc\u001b[0m \u001b[0;34m=\u001b[0m \u001b[0mself\u001b[0m\u001b[0;34m.\u001b[0m\u001b[0m_jdf\u001b[0m\u001b[0;34m.\u001b[0m\u001b[0mapply\u001b[0m\u001b[0;34m(\u001b[0m\u001b[0mname\u001b[0m\u001b[0;34m)\u001b[0m\u001b[0;34m\u001b[0m\u001b[0;34m\u001b[0m\u001b[0m\n",
      "\u001b[0;31mAttributeError\u001b[0m: 'DataFrame' object has no attribute 'title'"
     ]
    }
   ],
   "source": [
    "title_df = items_df.select('id',items_df.snippettitle.alias(\"category_name\"))\n",
    "\n",
    "title_df.show()"
   ]
  },
  {
   "cell_type": "code",
   "execution_count": 7,
   "id": "32485889",
   "metadata": {},
   "outputs": [
    {
     "name": "stdout",
     "output_type": "stream",
     "text": [
      "+-----------+-------------+----------------------+--------------------+-----------+--------------------+------------------------------+--------+-------+--------+-------------+--------------------+-----------------+----------------+----------------------+--------------------+\n",
      "|   video_id|trending_date|                 title|       channel_title|category_id|        publish_time|                          tags|   views|  likes|dislikes|comment_count|      thumbnail_link|comments_disabled|ratings_disabled|video_error_or_removed|         description|\n",
      "+-----------+-------------+----------------------+--------------------+-----------+--------------------+------------------------------+--------+-------+--------+-------------+--------------------+-----------------+----------------+----------------------+--------------------+\n",
      "|n1WpP7iowLc|     17.14.11|  Eminem - Walk On ...|          EminemVEVO|         10|2017-11-10T17:00:...|          \"Eminem\"|\"Walk\"|\"...|17158579| 787425|   43420|       125882|https://i.ytimg.c...|            False|           False|                 False|Eminem's new trac...|\n",
      "|0dBIkQ4Mz1M|     17.14.11|  PLUSH - Bad Unbox...|           iDubbbzTV|         23|2017-11-13T17:00:...|          \"plush\"|\"bad unbo...| 1014651| 127794|    1688|        13030|https://i.ytimg.c...|            False|           False|                 False|STill got a lot o...|\n",
      "|5qpjK5DgCt4|     17.14.11|  Racist Superman |...|        Rudy Mancuso|         23|2017-11-12T19:05:...|          \"racist superman\"...| 3191434| 146035|    5339|         8181|https://i.ytimg.c...|            False|           False|                 False|WATCH MY PREVIOUS...|\n",
      "|d380meD0W0M|     17.14.11|  I Dare You: GOING...|            nigahiga|         24|2017-11-12T18:01:...|          \"ryan\"|\"higa\"|\"hi...| 2095828| 132239|    1989|        17518|https://i.ytimg.c...|            False|           False|                 False|I know it's been ...|\n",
      "|2Vv-BfVoq4g|     17.14.11|  Ed Sheeran - Perf...|          Ed Sheeran|         10|2017-11-09T11:04:...|          \"edsheeran\"|\"ed s...|33523622|1634130|   21082|        85067|https://i.ytimg.c...|            False|           False|                 False|🎧: https://ad.gt...|\n",
      "|0yIWz1XEeyc|     17.14.11|  Jake Paul Says Al...|          DramaAlert|         25|2017-11-13T07:37:...|          \"#DramaAlert\"|\"Dr...| 1309699| 103755|    4613|        12143|https://i.ytimg.c...|            False|           False|                 False|► Follow for News...|\n",
      "|_uM5kFfkhB8|     17.14.11|  Vanoss Superhero ...|        VanossGaming|         23|2017-11-12T23:52:...|          \"Funny Moments\"|\"...| 2987945| 187464|    9850|        26629|https://i.ytimg.c...|            False|           False|                 False|Vanoss Merch Shop...|\n",
      "|2kyS6SvSYSE|     17.14.11|  WE WANT TO TALK A...|        CaseyNeistat|         22|2017-11-13T17:13:...|               SHANtell martin|  748374|  57534|    2967|        15959|https://i.ytimg.c...|            False|           False|                 False|SHANTELL'S CHANNE...|\n",
      "|JzCsM1vtn78|     17.14.11|  THE LOGANG MADE H...|    Logan Paul Vlogs|         24|2017-11-12T20:19:...|          \"logan paul vlog\"...| 4477587| 292837|    4123|        36391|https://i.ytimg.c...|            False|           False|                 False|Join the movement...|\n",
      "|43sm-QwLcx4|     17.14.11|  Finally Sheldon i...|         Sheikh Musa|         22|2017-11-10T14:10:...|          \"God\"|\"Sheldon Co...|  505161|   4135|     976|         1484|https://i.ytimg.c...|            False|           False|                 False|Sheldon is roasti...|\n",
      "|H1KBHFXm2Bg|     17.14.11|  21 Savage - Bank ...|           21 Savage|         10|2017-11-10T19:00:...|          \"21 savage\"|\"bank...| 5068229| 263596|    8585|        28976|https://i.ytimg.c...|            False|           False|                 False|Watch the officia...|\n",
      "|U3xLOo-CNwo|     17.14.11|  12 Weird Ways To ...|         Troom Troom|         26|2017-11-12T15:00:...|          \"sneak food\"|\"how...| 3153224|  28451|    2285|         3312|https://i.ytimg.c...|            False|           False|                 False|Subscribe Here: h...|\n",
      "|FyZMnhUtLfE|     17.14.11|猎场 | Game Of Hunt...|            大劇獨播|          1|2017-11-12T16:00:...|\"電視劇\"|\"大陸電視劇\"|\"猎场...|  158815|    218|      30|          186|https://i.ytimg.c...|            False|           False|                 False|Thanks for watchi...|\n",
      "|7MxiQ4v0EnE|     17.14.11|  Daang ( Full Vide...|       Speed Records|         10|2017-11-11T16:41:...|          \"punjabi songs\"|\"...| 5718766| 127477|    7134|         8063|https://i.ytimg.c...|            False|           False|                 False|Song - Daang\\nSin...|\n",
      "|LUzsOyWp9lw|     17.14.11|  YOUTUBERS REACT T...|                 FBE|         24|2017-11-12T22:00:...|          \"twitter\"|\"top 10...|  960747|  31810|     668|         5335|https://i.ytimg.c...|            False|           False|                 False|CLICK TO SUBSCRIB...|\n",
      "|AS9-ITLhQxo|     17.14.11|  I Hired An MI6 Sp...|        BuzzFeedBlue|         22|2017-11-11T16:00:...|          \"buzzfeed\"|\"buzzf...| 1531218|  53961|    1697|         4277|https://i.ytimg.c...|            False|           False|                 False|In the Outsmarted...|\n",
      "|gifPYwArCVQ|     17.14.11|  Fake Pet Smart Em...|                NELK|         23|2017-11-13T01:30:...|          \"prank\"|\"pranks\"|...|  557883|  44558|     621|         9619|https://i.ytimg.c...|            False|           False|                 False|3 Days left to co...|\n",
      "|8NHA23f7LvU|     17.14.11|  Jason Momoa Wows ...|The Graham Norton...|         24|2017-11-10T19:06:...|          \"Graham Norton\"|\"...| 1496225|  16116|     236|          605|https://i.ytimg.c...|            False|           False|                 False|I think Sarah Mil...|\n",
      "|fy-CuCzaPp8|     17.14.11|  Rooster Teeth Ani...|       Rooster Teeth|          1|2017-11-13T14:00:...|          \"Rooster Teeth\"|\"...|  308568|  19541|      70|          495|https://i.ytimg.c...|            False|           False|                 False|Miles gets stuck ...|\n",
      "|kzwfHumJyYc|     17.14.11|  Sharry Mann: Cute...|     Lokdhun Punjabi|          1|2017-11-12T12:20:...|          \"sharry mann\"|\"sh...| 1096327|  33966|     798|          882|https://i.ytimg.c...|            False|           False|                 False|Presenting Sharry...|\n",
      "+-----------+-------------+----------------------+--------------------+-----------+--------------------+------------------------------+--------+-------+--------+-------------+--------------------+-----------------+----------------+----------------------+--------------------+\n",
      "only showing top 20 rows\n",
      "\n"
     ]
    }
   ],
   "source": [
    "data_df =spark.read.option(\"header\",True).csv(\"/home/james/python_practice/archive/CAvideos.csv\")\n",
    "data_df.show()"
   ]
  },
  {
   "cell_type": "code",
   "execution_count": 8,
   "id": "9834b699",
   "metadata": {},
   "outputs": [
    {
     "name": "stderr",
     "output_type": "stream",
     "text": [
      "                                                                                \r"
     ]
    },
    {
     "name": "stdout",
     "output_type": "stream",
     "text": [
      "+---+--------------+-----------+-------------+--------------------+--------------------+-----------+--------------------+--------------------+-------+------+--------+-------------+--------------------+-----------------+----------------+----------------------+--------------------+\n",
      "| id|         title|   video_id|trending_date|               title|       channel_title|category_id|        publish_time|                tags|  views| likes|dislikes|comment_count|      thumbnail_link|comments_disabled|ratings_disabled|video_error_or_removed|         description|\n",
      "+---+--------------+-----------+-------------+--------------------+--------------------+-----------+--------------------+--------------------+-------+------+--------+-------------+--------------------+-----------------+----------------+----------------------+--------------------+\n",
      "| 15|Pets & Animals|TaTleo4cOs8|     17.14.11|SHOPPING FOR NEW ...|     The king of DIY|         15|2017-11-12T18:30:...|\"shopping for new...| 207532|  7473|     246|         2120|https://i.ytimg.c...|            False|           False|                 False|Today we go shopp...|\n",
      "| 15|Pets & Animals|pVu4zRW5eso|     17.14.11|OMG! MY ANTS ARE ...|          AntsCanada|         15|2017-11-13T11:22:...|\"ants\"|\"antscanad...| 152118|  9642|     129|         6095|https://i.ytimg.c...|            False|           False|                 False|Click here to SUB...|\n",
      "| 15|Pets & Animals|YTiYQwk7Bw0|     17.15.11|   ALL MY NEW FISH!!|     The king of DIY|         15|2017-11-14T21:30:...|\"Aquarium\"|\"aquar...| 128316|  5972|     164|         2049|https://i.ytimg.c...|            False|           False|                 False|I'll post more ph...|\n",
      "| 15|Pets & Animals|YTiYQwk7Bw0|     17.16.11|   ALL MY NEW FISH!!|     The king of DIY|         15|2017-11-14T21:30:...|\"Aquarium\"|\"aquar...| 195715|  7670|     231|         2470|https://i.ytimg.c...|            False|           False|                 False|I'll post more ph...|\n",
      "| 15|Pets & Animals|4T4mt9MuHEI|     17.17.11|What will happen ...|     The king of DIY|         15|2017-11-16T19:00:...|\"aquarium\"|\"frank...| 132315|  5623|     102|         2966|https://i.ytimg.c...|            False|           False|                 False|I know im not goi...|\n",
      "| 15|Pets & Animals|9PhM-zCmTFs|     17.17.11|DIY - Simon's Cat...|         Simon's Cat|         15|2017-11-16T15:03:...|\"diy\"|\"electric d...| 178977| 14355|      87|          429|https://i.ytimg.c...|            False|           False|                 False|'A curious cat he...|\n",
      "| 15|Pets & Animals|XlCHEONTqnc|     17.18.11|WE ARE ALL GOING ...|           PewDiePie|         15|2017-11-16T17:53:...|              [none]|2244679|174921|    3035|        20544|https://i.ytimg.c...|            False|           False|                 False|Join my giveaway ...|\n",
      "| 15|Pets & Animals|fvnjrNE5z7A|     17.18.11|   Origin of STINGS!|    Brave Wilderness|         15|2017-11-17T12:00:...|\"Ants\"|\"stinging\"...| 355233| 15095|     179|         1943|https://i.ytimg.c...|            False|           False|                 False|Please SUBSCRIBE ...|\n",
      "| 15|Pets & Animals|4T4mt9MuHEI|     17.18.11|What will happen ...|     The king of DIY|         15|2017-11-16T19:00:...|\"aquarium\"|\"frank...| 180385|  6612|     130|         3509|https://i.ytimg.c...|            False|           False|                 False|I know im not goi...|\n",
      "| 15|Pets & Animals|9PhM-zCmTFs|     17.18.11|DIY - Simon's Cat...|         Simon's Cat|         15|2017-11-16T15:03:...|\"diy\"|\"electric d...| 336907| 18768|     177|          603|https://i.ytimg.c...|            False|           False|                 False|'A curious cat he...|\n",
      "| 15|Pets & Animals|XlCHEONTqnc|     17.19.11|WE ARE ALL GOING ...|           PewDiePie|         15|2017-11-16T17:53:...|              [none]|2490776|186307|    3322|        21384|https://i.ytimg.c...|            False|           False|                 False|Join my giveaway ...|\n",
      "| 15|Pets & Animals|fvnjrNE5z7A|     17.19.11|   Origin of STINGS!|    Brave Wilderness|         15|2017-11-17T12:00:...|\"Ants\"|\"stinging\"...| 495360| 17845|     228|         2193|https://i.ytimg.c...|            False|           False|                 False|Please SUBSCRIBE ...|\n",
      "| 15|Pets & Animals|6ECoCQfG4C4|     17.19.11|ANT WAR: BATTLE O...|          AntsCanada|         15|2017-11-18T13:00:...|\"ants\"|\"antscanad...| 254724| 10994|     211|         8597|https://i.ytimg.c...|            False|           False|                 False|Click here to SUB...|\n",
      "| 15|Pets & Animals|6ECoCQfG4C4|     17.20.11|ANT WAR: BATTLE O...|          AntsCanada|         15|2017-11-18T13:00:...|\"ants\"|\"antscanad...| 337492| 12861|     272|         9741|https://i.ytimg.c...|            False|           False|                 False|Click here to SUB...|\n",
      "| 15|Pets & Animals|XlCHEONTqnc|     17.20.11|WE ARE ALL GOING ...|           PewDiePie|         15|2017-11-16T17:53:...|              [none]|2647746|193092|    3473|        19642|https://i.ytimg.c...|            False|           False|                 False|Join my giveaway ...|\n",
      "| 15|Pets & Animals|fvnjrNE5z7A|     17.20.11|   Origin of STINGS!|    Brave Wilderness|         15|2017-11-17T12:00:...|\"Ants\"|\"stinging\"...| 553887| 18923|     258|         2278|https://i.ytimg.c...|            False|           False|                 False|Please SUBSCRIBE ...|\n",
      "| 15|Pets & Animals|nkXGohB02V0|     17.24.11|Fast Food (A Than...|         Simon's Cat|         15|2017-11-23T13:04:...|\"cartoon\"|\"simons...| 350853| 20976|     339|         1064|https://i.ytimg.c...|            False|           False|                 False|'Two hungry cats ...|\n",
      "| 15|Pets & Animals|zTOqI-5AK14|     17.24.11|Children tried to...|Hope For Paws - O...|         15|2017-11-23T20:17:...|\"Hope For Paws\"|\"...| 163430| 14661|      56|         1035|https://i.ytimg.c...|            False|           False|                 False|I am so thankful ...|\n",
      "| 15|Pets & Animals|unk6n3_QdlM|     17.25.11|STUNG by a WARRIO...|    Brave Wilderness|         15|2017-11-24T12:00:...|\"stinging\"|\"bulle...|2693637|129050|    1486|        34224|https://i.ytimg.c...|            False|           False|                 False|Please SUBSCRIBE ...|\n",
      "| 15|Pets & Animals|zTOqI-5AK14|     17.25.11|Children tried to...|Hope For Paws - O...|         15|2017-11-23T20:17:...|\"Hope For Paws\"|\"...| 417910| 23382|     117|         1491|https://i.ytimg.c...|            False|           False|                 False|I am so thankful ...|\n",
      "+---+--------------+-----------+-------------+--------------------+--------------------+-----------+--------------------+--------------------+-------+------+--------+-------------+--------------------+-----------------+----------------+----------------------+--------------------+\n",
      "only showing top 20 rows\n",
      "\n"
     ]
    }
   ],
   "source": [
    "joinDF=title_df.join(data_df, data_df['category_id'] == title_df['id'] )\n",
    "joinDF.show()\n"
   ]
  },
  {
   "cell_type": "code",
   "execution_count": null,
   "id": "9185f2ef",
   "metadata": {},
   "outputs": [],
   "source": []
  }
 ],
 "metadata": {
  "kernelspec": {
   "display_name": "Python 3",
   "language": "python",
   "name": "python3"
  },
  "language_info": {
   "codemirror_mode": {
    "name": "ipython",
    "version": 3
   },
   "file_extension": ".py",
   "mimetype": "text/x-python",
   "name": "python",
   "nbconvert_exporter": "python",
   "pygments_lexer": "ipython3",
   "version": "3.9.7"
  }
 },
 "nbformat": 4,
 "nbformat_minor": 5
}
