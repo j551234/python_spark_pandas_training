{
 "cells": [
  {
   "cell_type": "code",
   "execution_count": 25,
   "id": "98eaf4e9",
   "metadata": {},
   "outputs": [
    {
     "name": "stderr",
     "output_type": "stream",
     "text": [
      "\r",
      "[Stage 152:>                                                        (0 + 1) / 1]\r"
     ]
    },
    {
     "name": "stdout",
     "output_type": "stream",
     "text": [
      "+-----------+-------------+--------------------+--------------------+-----------+--------------------+--------------------+-------+------+--------+-------------+--------------------+-----------------+----------------+----------------------+--------------------+--------------------+---+--------------------+--------------------+\n",
      "|   video_id|trending_date|               title|       channel_title|category_id|        publish_time|                tags|  views| likes|dislikes|comment_count|      thumbnail_link|comments_disabled|ratings_disabled|video_error_or_removed|         description|                etag| id|                kind|             snippet|\n",
      "+-----------+-------------+--------------------+--------------------+-----------+--------------------+--------------------+-------+------+--------+-------------+--------------------+-----------------+----------------+----------------------+--------------------+--------------------+---+--------------------+--------------------+\n",
      "|TaTleo4cOs8|     17.14.11|SHOPPING FOR NEW ...|     The king of DIY|         15|2017-11-12T18:30:...|\"shopping for new...| 207532|  7473|     246|         2120|https://i.ytimg.c...|            False|           False|                 False|Today we go shopp...|\"ld9biNPKjAjgjV7E...| 15|youtube#videoCate...|{true, UCBR8-60-B...|\n",
      "|pVu4zRW5eso|     17.14.11|OMG! MY ANTS ARE ...|          AntsCanada|         15|2017-11-13T11:22:...|\"ants\"|\"antscanad...| 152118|  9642|     129|         6095|https://i.ytimg.c...|            False|           False|                 False|Click here to SUB...|\"ld9biNPKjAjgjV7E...| 15|youtube#videoCate...|{true, UCBR8-60-B...|\n",
      "|YTiYQwk7Bw0|     17.15.11|   ALL MY NEW FISH!!|     The king of DIY|         15|2017-11-14T21:30:...|\"Aquarium\"|\"aquar...| 128316|  5972|     164|         2049|https://i.ytimg.c...|            False|           False|                 False|I'll post more ph...|\"ld9biNPKjAjgjV7E...| 15|youtube#videoCate...|{true, UCBR8-60-B...|\n",
      "|YTiYQwk7Bw0|     17.16.11|   ALL MY NEW FISH!!|     The king of DIY|         15|2017-11-14T21:30:...|\"Aquarium\"|\"aquar...| 195715|  7670|     231|         2470|https://i.ytimg.c...|            False|           False|                 False|I'll post more ph...|\"ld9biNPKjAjgjV7E...| 15|youtube#videoCate...|{true, UCBR8-60-B...|\n",
      "|4T4mt9MuHEI|     17.17.11|What will happen ...|     The king of DIY|         15|2017-11-16T19:00:...|\"aquarium\"|\"frank...| 132315|  5623|     102|         2966|https://i.ytimg.c...|            False|           False|                 False|I know im not goi...|\"ld9biNPKjAjgjV7E...| 15|youtube#videoCate...|{true, UCBR8-60-B...|\n",
      "|9PhM-zCmTFs|     17.17.11|DIY - Simon's Cat...|         Simon's Cat|         15|2017-11-16T15:03:...|\"diy\"|\"electric d...| 178977| 14355|      87|          429|https://i.ytimg.c...|            False|           False|                 False|'A curious cat he...|\"ld9biNPKjAjgjV7E...| 15|youtube#videoCate...|{true, UCBR8-60-B...|\n",
      "|XlCHEONTqnc|     17.18.11|WE ARE ALL GOING ...|           PewDiePie|         15|2017-11-16T17:53:...|              [none]|2244679|174921|    3035|        20544|https://i.ytimg.c...|            False|           False|                 False|Join my giveaway ...|\"ld9biNPKjAjgjV7E...| 15|youtube#videoCate...|{true, UCBR8-60-B...|\n",
      "|fvnjrNE5z7A|     17.18.11|   Origin of STINGS!|    Brave Wilderness|         15|2017-11-17T12:00:...|\"Ants\"|\"stinging\"...| 355233| 15095|     179|         1943|https://i.ytimg.c...|            False|           False|                 False|Please SUBSCRIBE ...|\"ld9biNPKjAjgjV7E...| 15|youtube#videoCate...|{true, UCBR8-60-B...|\n",
      "|4T4mt9MuHEI|     17.18.11|What will happen ...|     The king of DIY|         15|2017-11-16T19:00:...|\"aquarium\"|\"frank...| 180385|  6612|     130|         3509|https://i.ytimg.c...|            False|           False|                 False|I know im not goi...|\"ld9biNPKjAjgjV7E...| 15|youtube#videoCate...|{true, UCBR8-60-B...|\n",
      "|9PhM-zCmTFs|     17.18.11|DIY - Simon's Cat...|         Simon's Cat|         15|2017-11-16T15:03:...|\"diy\"|\"electric d...| 336907| 18768|     177|          603|https://i.ytimg.c...|            False|           False|                 False|'A curious cat he...|\"ld9biNPKjAjgjV7E...| 15|youtube#videoCate...|{true, UCBR8-60-B...|\n",
      "|XlCHEONTqnc|     17.19.11|WE ARE ALL GOING ...|           PewDiePie|         15|2017-11-16T17:53:...|              [none]|2490776|186307|    3322|        21384|https://i.ytimg.c...|            False|           False|                 False|Join my giveaway ...|\"ld9biNPKjAjgjV7E...| 15|youtube#videoCate...|{true, UCBR8-60-B...|\n",
      "|fvnjrNE5z7A|     17.19.11|   Origin of STINGS!|    Brave Wilderness|         15|2017-11-17T12:00:...|\"Ants\"|\"stinging\"...| 495360| 17845|     228|         2193|https://i.ytimg.c...|            False|           False|                 False|Please SUBSCRIBE ...|\"ld9biNPKjAjgjV7E...| 15|youtube#videoCate...|{true, UCBR8-60-B...|\n",
      "|6ECoCQfG4C4|     17.19.11|ANT WAR: BATTLE O...|          AntsCanada|         15|2017-11-18T13:00:...|\"ants\"|\"antscanad...| 254724| 10994|     211|         8597|https://i.ytimg.c...|            False|           False|                 False|Click here to SUB...|\"ld9biNPKjAjgjV7E...| 15|youtube#videoCate...|{true, UCBR8-60-B...|\n",
      "|6ECoCQfG4C4|     17.20.11|ANT WAR: BATTLE O...|          AntsCanada|         15|2017-11-18T13:00:...|\"ants\"|\"antscanad...| 337492| 12861|     272|         9741|https://i.ytimg.c...|            False|           False|                 False|Click here to SUB...|\"ld9biNPKjAjgjV7E...| 15|youtube#videoCate...|{true, UCBR8-60-B...|\n",
      "|XlCHEONTqnc|     17.20.11|WE ARE ALL GOING ...|           PewDiePie|         15|2017-11-16T17:53:...|              [none]|2647746|193092|    3473|        19642|https://i.ytimg.c...|            False|           False|                 False|Join my giveaway ...|\"ld9biNPKjAjgjV7E...| 15|youtube#videoCate...|{true, UCBR8-60-B...|\n",
      "|fvnjrNE5z7A|     17.20.11|   Origin of STINGS!|    Brave Wilderness|         15|2017-11-17T12:00:...|\"Ants\"|\"stinging\"...| 553887| 18923|     258|         2278|https://i.ytimg.c...|            False|           False|                 False|Please SUBSCRIBE ...|\"ld9biNPKjAjgjV7E...| 15|youtube#videoCate...|{true, UCBR8-60-B...|\n",
      "|nkXGohB02V0|     17.24.11|Fast Food (A Than...|         Simon's Cat|         15|2017-11-23T13:04:...|\"cartoon\"|\"simons...| 350853| 20976|     339|         1064|https://i.ytimg.c...|            False|           False|                 False|'Two hungry cats ...|\"ld9biNPKjAjgjV7E...| 15|youtube#videoCate...|{true, UCBR8-60-B...|\n",
      "|zTOqI-5AK14|     17.24.11|Children tried to...|Hope For Paws - O...|         15|2017-11-23T20:17:...|\"Hope For Paws\"|\"...| 163430| 14661|      56|         1035|https://i.ytimg.c...|            False|           False|                 False|I am so thankful ...|\"ld9biNPKjAjgjV7E...| 15|youtube#videoCate...|{true, UCBR8-60-B...|\n",
      "|unk6n3_QdlM|     17.25.11|STUNG by a WARRIO...|    Brave Wilderness|         15|2017-11-24T12:00:...|\"stinging\"|\"bulle...|2693637|129050|    1486|        34224|https://i.ytimg.c...|            False|           False|                 False|Please SUBSCRIBE ...|\"ld9biNPKjAjgjV7E...| 15|youtube#videoCate...|{true, UCBR8-60-B...|\n",
      "|zTOqI-5AK14|     17.25.11|Children tried to...|Hope For Paws - O...|         15|2017-11-23T20:17:...|\"Hope For Paws\"|\"...| 417910| 23382|     117|         1491|https://i.ytimg.c...|            False|           False|                 False|I am so thankful ...|\"ld9biNPKjAjgjV7E...| 15|youtube#videoCate...|{true, UCBR8-60-B...|\n",
      "+-----------+-------------+--------------------+--------------------+-----------+--------------------+--------------------+-------+------+--------+-------------+--------------------+-----------------+----------------+----------------------+--------------------+--------------------+---+--------------------+--------------------+\n",
      "only showing top 20 rows\n",
      "\n"
     ]
    },
    {
     "name": "stderr",
     "output_type": "stream",
     "text": [
      "\r",
      "                                                                                \r"
     ]
    }
   ],
   "source": [
    "from pyspark import SparkContext\n",
    "from pyspark.sql import SparkSession\n",
    "from pyspark.sql.functions import col, substring\n",
    "from pyspark.sql.types import IntegerType\n",
    "import pyspark.sql.functions as f\n",
    "\n",
    "spark = SparkSession.builder.master(\"local[1]\") \\\n",
    "                    .appName('py_spark') \\\n",
    "                    .getOrCreate()\n",
    "\n",
    "\n",
    "csvDF =spark.read.option(\"header\",True).csv(\"/home/james/python_practice/archive/CAvideos.csv\")\n",
    "\n",
    "jsonDF =spark.read.option(\"multiLine\", True).json(\"/home/james/python_practice/archive/CA_category_id.json\").rdd.flatMap(lambda x:x[\"items\"]).toDF()\n",
    "\n",
    "joinDF=csvDF.join(jsonDF, csvDF['category_id'] == jsonDF['id'] )\n",
    "\n",
    "\n",
    "joinDF.show()"
   ]
  },
  {
   "cell_type": "code",
   "execution_count": null,
   "id": "9d379efd",
   "metadata": {},
   "outputs": [],
   "source": []
  },
  {
   "cell_type": "code",
   "execution_count": 27,
   "id": "a2d87c82",
   "metadata": {},
   "outputs": [
    {
     "name": "stdout",
     "output_type": "stream",
     "text": [
      "+--------------+--------+------+\n",
      "|         title|dislikes| likes|\n",
      "+--------------+--------+------+\n",
      "|Pets & Animals|     246|  7473|\n",
      "|Pets & Animals|     129|  9642|\n",
      "|Pets & Animals|     164|  5972|\n",
      "|Pets & Animals|     231|  7670|\n",
      "|Pets & Animals|     102|  5623|\n",
      "|Pets & Animals|      87| 14355|\n",
      "|Pets & Animals|    3035|174921|\n",
      "|Pets & Animals|     179| 15095|\n",
      "|Pets & Animals|     130|  6612|\n",
      "|Pets & Animals|     177| 18768|\n",
      "|Pets & Animals|    3322|186307|\n",
      "|Pets & Animals|     228| 17845|\n",
      "|Pets & Animals|     211| 10994|\n",
      "|Pets & Animals|     272| 12861|\n",
      "|Pets & Animals|    3473|193092|\n",
      "|Pets & Animals|     258| 18923|\n",
      "|Pets & Animals|     339| 20976|\n",
      "|Pets & Animals|      56| 14661|\n",
      "|Pets & Animals|    1486|129050|\n",
      "|Pets & Animals|     117| 23382|\n",
      "+--------------+--------+------+\n",
      "only showing top 20 rows\n",
      "\n"
     ]
    },
    {
     "name": "stderr",
     "output_type": "stream",
     "text": [
      "\r",
      "[Stage 170:>                                                        (0 + 1) / 1]\r",
      "\r",
      "                                                                                \r"
     ]
    }
   ],
   "source": [
    "deal_df=joinDF.select(joinDF['snippet.title'],joinDF[\"dislikes\"],joinDF[\"likes\"])\n",
    "deal_df.show()\n"
   ]
  },
  {
   "cell_type": "code",
   "execution_count": 28,
   "id": "24fbc4a8",
   "metadata": {},
   "outputs": [
    {
     "name": "stdout",
     "output_type": "stream",
     "text": [
      "+--------------+--------+------+------------------+\n",
      "|         title|dislikes| likes|             ratio|\n",
      "+--------------+--------+------+------------------+\n",
      "|Pets & Animals|     246|  7473|0.9681305868635833|\n",
      "|Pets & Animals|     129|  9642| 0.986797666564323|\n",
      "|Pets & Animals|     164|  5972|0.9732724902216427|\n",
      "|Pets & Animals|     231|  7670|0.9707631945323377|\n",
      "|Pets & Animals|     102|  5623|0.9821834061135372|\n",
      "|Pets & Animals|      87| 14355|0.9939759036144579|\n",
      "|Pets & Animals|    3035|174921|0.9829452224145294|\n",
      "|Pets & Animals|     179| 15095|0.9882807385098861|\n",
      "|Pets & Animals|     130|  6612|0.9807178878671018|\n",
      "|Pets & Animals|     177| 18768|0.9906571654790182|\n",
      "|Pets & Animals|    3322|186307|0.9824815824583792|\n",
      "|Pets & Animals|     228| 17845|0.9873844962098157|\n",
      "|Pets & Animals|     211| 10994|0.9811691209281571|\n",
      "|Pets & Animals|     272| 12861|0.9792888144369146|\n",
      "|Pets & Animals|    3473|193092|0.9823315442728868|\n",
      "|Pets & Animals|     258| 18923|0.9865491893019134|\n",
      "|Pets & Animals|     339| 20976|0.9840957072484167|\n",
      "|Pets & Animals|      56| 14661| 0.996194876673235|\n",
      "|Pets & Animals|    1486|129050|0.9886161671875957|\n",
      "|Pets & Animals|     117| 23382|0.9950210647261586|\n",
      "+--------------+--------+------+------------------+\n",
      "only showing top 20 rows\n",
      "\n"
     ]
    },
    {
     "name": "stderr",
     "output_type": "stream",
     "text": [
      "\r",
      "[Stage 179:>                                                        (0 + 1) / 1]\r",
      "\r",
      "                                                                                \r"
     ]
    }
   ],
   "source": [
    "deal_df=deal_df.withColumn(\"ratio\",f.col(\"likes\")/(f.col(\"likes\")+f.col(\"dislikes\")))\n",
    "\n",
    "deal_df.show()"
   ]
  },
  {
   "cell_type": "code",
   "execution_count": 29,
   "id": "021e0a31",
   "metadata": {},
   "outputs": [
    {
     "name": "stderr",
     "output_type": "stream",
     "text": [
      "                                                                                \r"
     ]
    },
    {
     "data": {
      "text/plain": [
       "[Row(title='News & Politics', ratio=0.016729993902458554),\n",
       " Row(title='People & Blogs', ratio=0.013353801483672425),\n",
       " Row(title='Shows', ratio=0.010001217651837218),\n",
       " Row(title='Autos & Vehicles', ratio=0.009605028675134172),\n",
       " Row(title='Sports', ratio=0.008041388710575983),\n",
       " Row(title='Entertainment', ratio=0.006902693982705689),\n",
       " Row(title='Film & Animation', ratio=0.00675074830724157),\n",
       " Row(title='Science & Technology', ratio=0.0054144598980453915),\n",
       " Row(title='Education', ratio=0.004300500236870866),\n",
       " Row(title='Music', ratio=0.003597276327668872)]"
      ]
     },
     "metadata": {},
     "output_type": "display_data"
    }
   ],
   "source": [
    "deal_df=deal_df.groupby('title')\\\n",
    "    .agg(f.variance(\"ratio\").alias(\"ratio\"))\\\n",
    "    .sort(f.col('ratio').desc())\n",
    "\n",
    "display(deal_df.head(10))"
   ]
  },
  {
   "cell_type": "code",
   "execution_count": 30,
   "id": "b47e74da",
   "metadata": {},
   "outputs": [
    {
     "name": "stdout",
     "output_type": "stream",
     "text": [
      "1 3 5 7 9 "
     ]
    }
   ],
   "source": [
    "for i in range(1, 10, 2):\n",
    "    print(i, end=\" \")"
   ]
  },
  {
   "cell_type": "code",
   "execution_count": 35,
   "id": "bd639471",
   "metadata": {},
   "outputs": [
    {
     "name": "stdout",
     "output_type": "stream",
     "text": [
      "hello world\n",
      "hello world\n",
      "hello world\n",
      "hello world\n",
      "hello world\n",
      "hello world\n",
      "hello world\n",
      "hello world\n",
      "hello world\n",
      "hello world\n",
      "hello world\n",
      "hello world\n",
      "hello world\n",
      "hello world\n",
      "hello world\n",
      "hello world\n",
      "hello world\n",
      "hello world\n",
      "hello world\n",
      "hello world\n",
      "hello world\n",
      "hello world\n",
      "hello world\n",
      "hello world\n",
      "hello world\n",
      "hello world\n",
      "hello world\n",
      "hello world\n",
      "hello world\n",
      "hello world\n",
      "hello world\n",
      "hello world\n",
      "hello world\n",
      "hello world\n",
      "hello world\n",
      "hello world\n",
      "hello world\n",
      "hello world\n",
      "hello world\n",
      "hello world\n",
      "hello world\n",
      "hello world\n",
      "hello world\n",
      "hello world\n",
      "hello world\n",
      "hello world\n",
      "hello world\n",
      "hello world\n",
      "hello world\n",
      "hello world\n",
      "hello world\n",
      "hello world\n",
      "hello world\n",
      "hello world\n",
      "hello world\n",
      "hello world\n",
      "hello world\n",
      "hello world\n",
      "hello world\n",
      "hello world\n",
      "hello world\n",
      "hello world\n",
      "hello world\n",
      "hello world\n",
      "hello world\n",
      "hello world\n",
      "hello world\n",
      "hello world\n",
      "hello world\n",
      "hello world\n",
      "hello world\n",
      "hello world\n",
      "hello world\n",
      "hello world\n",
      "hello world\n",
      "hello world\n",
      "hello world\n",
      "hello world\n",
      "hello world\n",
      "hello world\n",
      "hello world\n",
      "hello world\n",
      "hello world\n",
      "hello world\n",
      "hello world\n",
      "hello world\n",
      "hello world\n",
      "hello world\n",
      "hello world\n",
      "hello world\n",
      "hello world\n",
      "hello world\n",
      "hello world\n",
      "hello world\n",
      "hello world\n",
      "hello world\n",
      "hello world\n",
      "hello world\n",
      "hello world\n",
      "hello world\n"
     ]
    }
   ],
   "source": [
    "i = 0\n",
    "while i  < 100:\n",
    "    print(\"hello world\")\n",
    "    i = i + 1"
   ]
  },
  {
   "cell_type": "code",
   "execution_count": null,
   "id": "bdca580d",
   "metadata": {},
   "outputs": [],
   "source": []
  }
 ],
 "metadata": {
  "kernelspec": {
   "display_name": "Python 3",
   "language": "python",
   "name": "python3"
  },
  "language_info": {
   "codemirror_mode": {
    "name": "ipython",
    "version": 3
   },
   "file_extension": ".py",
   "mimetype": "text/x-python",
   "name": "python",
   "nbconvert_exporter": "python",
   "pygments_lexer": "ipython3",
   "version": "3.9.7"
  }
 },
 "nbformat": 4,
 "nbformat_minor": 5
}
