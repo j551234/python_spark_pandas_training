{
 "cells": [
  {
   "cell_type": "code",
   "execution_count": 27,
   "id": "dc6400a4",
   "metadata": {},
   "outputs": [
    {
     "name": "stdout",
     "output_type": "stream",
     "text": [
      "+--------+----------------+\n",
      "|dislikes|           title|\n",
      "+--------+----------------+\n",
      "|    1204|Film & Animation|\n",
      "|     348|Film & Animation|\n",
      "|    2520|Film & Animation|\n",
      "|      84|Film & Animation|\n",
      "|      27|Film & Animation|\n",
      "|     831|Film & Animation|\n",
      "|   60025|Film & Animation|\n",
      "|    1985|Film & Animation|\n",
      "|    3657|Film & Animation|\n",
      "|    5508|Film & Animation|\n",
      "|     648|Film & Animation|\n",
      "|    8506|Film & Animation|\n",
      "|     569|Film & Animation|\n",
      "|     224|Film & Animation|\n",
      "|    8927|Film & Animation|\n",
      "|      60|Film & Animation|\n",
      "|     543|Film & Animation|\n",
      "|     956|Film & Animation|\n",
      "|    1135|Film & Animation|\n",
      "|   51293|Film & Animation|\n",
      "+--------+----------------+\n",
      "only showing top 20 rows\n",
      "\n"
     ]
    },
    {
     "name": "stderr",
     "output_type": "stream",
     "text": [
      "\r",
      "[Stage 181:================================>                    (121 + 1) / 200]\r",
      "\r",
      "[Stage 181:============================================>        (167 + 1) / 200]\r"
     ]
    },
    {
     "name": "stdout",
     "output_type": "stream",
     "text": [
      "+--------------------+--------+\n",
      "|               title|dislikes|\n",
      "+--------------------+--------+\n",
      "|       Entertainment|25791583|\n",
      "|               Music|22098190|\n",
      "|      People & Blogs| 9480796|\n",
      "|              Comedy| 5372515|\n",
      "|              Sports| 3286369|\n",
      "|     News & Politics| 3264041|\n",
      "|    Film & Animation| 3111259|\n",
      "|              Gaming| 2446882|\n",
      "|Science & Technology| 1791153|\n",
      "|       Howto & Style| 1730520|\n",
      "+--------------------+--------+\n",
      "\n"
     ]
    },
    {
     "name": "stderr",
     "output_type": "stream",
     "text": [
      "\r",
      "                                                                                \r"
     ]
    }
   ],
   "source": [
    "from pyspark import SparkContext\n",
    "from pyspark.sql import SparkSession\n",
    "from pyspark.sql.functions import col, substring\n",
    "from pyspark.sql.types import IntegerType\n",
    "import pyspark.sql.functions as f\n",
    "\n",
    "spark = SparkSession.builder.master(\"local[1]\") \\\n",
    "                    .appName('py_spark') \\\n",
    "                    .getOrCreate()\n",
    "\n",
    "\n",
    "csvDF =spark.read.option(\"header\",True).csv(\"/home/james/python_practice/archive/CAvideos.csv\")\n",
    "\n",
    "jsonDF =spark.read.option(\"multiLine\", True).json(\"/home/james/python_practice/archive/CA_category_id.json\").rdd.flatMap(lambda x:x[\"items\"]).toDF()\n",
    "\n",
    "joinDF=csvDF.join(jsonDF, csvDF['category_id'] == jsonDF['id'] )\n",
    "\n",
    "joinDF =joinDF.withColumn(\"dislikes\",  col('dislikes').cast(IntegerType()))\n",
    "joinDF=joinDF.select(joinDF[\"dislikes\"],joinDF['snippet.title'])\n",
    "joinDF.show()\n",
    "joinDF =joinDF.groupBy('title').agg(f.sum('dislikes').alias('dislikes')).sort(f.col('dislikes').desc()).head(10)\n",
    "spark.createDataFrame(joinDF).show()\n",
    "# joinDF.show(100)"
   ]
  },
  {
   "cell_type": "code",
   "execution_count": null,
   "id": "0a221267",
   "metadata": {},
   "outputs": [],
   "source": []
  }
 ],
 "metadata": {
  "kernelspec": {
   "display_name": "Python 3",
   "language": "python",
   "name": "python3"
  },
  "language_info": {
   "codemirror_mode": {
    "name": "ipython",
    "version": 3
   },
   "file_extension": ".py",
   "mimetype": "text/x-python",
   "name": "python",
   "nbconvert_exporter": "python",
   "pygments_lexer": "ipython3",
   "version": "3.9.7"
  }
 },
 "nbformat": 4,
 "nbformat_minor": 5
}
